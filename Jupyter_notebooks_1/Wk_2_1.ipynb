{
 "cells": [
  {
   "cell_type": "code",
   "execution_count": 6,
   "metadata": {},
   "outputs": [
    {
     "name": "stdout",
     "output_type": "stream",
     "text": [
      "It's cold! Wear a sweater\n"
     ]
    }
   ],
   "source": [
    "Temp = int(input(\"What is the current temperature?\"))\n",
    "if Temp <0:\n",
    "    print(\"It's freezing! Wear a heavy jacket\")\n",
    "elif Temp <=15:\n",
    "    print(\"It's cold! Wear a sweater\")\n",
    "elif Temp <=25:\n",
    "    print(\"Nice weather! A t-shirt is fine.\")\n",
    "elif Temp >25:\n",
    "    print (\"It's hot! Stay hydrated.\")\n",
    "    "
   ]
  },
  {
   "cell_type": "code",
   "execution_count": 15,
   "metadata": {},
   "outputs": [
    {
     "name": "stdout",
     "output_type": "stream",
     "text": [
      "apple\n",
      "banana\n",
      "cherry\n"
     ]
    }
   ],
   "source": [
    "fruits = [\"apple\", \"banana\", \"cherry\"]\n",
    "\n",
    "for word in fruits:\n",
    "    print (word)"
   ]
  },
  {
   "cell_type": "code",
   "execution_count": 16,
   "metadata": {},
   "outputs": [
    {
     "name": "stdout",
     "output_type": "stream",
     "text": [
      "a\n",
      "s\n",
      "t\n",
      "e\n",
      "r\n",
      "i\n",
      "s\n",
      "k\n"
     ]
    }
   ],
   "source": [
    "word = input(\"Enter a word\")\n",
    "\n",
    "for letter in word:\n",
    "    print (letter)"
   ]
  },
  {
   "cell_type": "code",
   "execution_count": 17,
   "metadata": {},
   "outputs": [
    {
     "name": "stdout",
     "output_type": "stream",
     "text": [
      "o o o o o \n",
      "o o o o o \n",
      "o o o o o \n",
      "o o o o o \n",
      "o o o o o \n"
     ]
    }
   ],
   "source": [
    "n = 5\n",
    "for i in range(n):\n",
    "    for j in range(n):\n",
    "        print ('o', end=' ')\n",
    "    print()"
   ]
  },
  {
   "cell_type": "code",
   "execution_count": 29,
   "metadata": {},
   "outputs": [
    {
     "name": "stdout",
     "output_type": "stream",
     "text": [
      "\n",
      "o \n",
      "o o \n",
      "o o o \n",
      "o o o o \n",
      "o o o o o \n",
      "o o o o o o \n",
      "o o o o o o o \n",
      "o o o o o o o o \n",
      "o o o o o o o o o \n",
      "o o o o o o o o o o \n",
      "o o o o o o o o o o o \n",
      "o o o o o o o o o o o o \n",
      "o o o o o o o o o o o o o \n",
      "o o o o o o o o o o o o o o \n",
      "o o o o o o o o o o o o o o o \n",
      "o o o o o o o o o o o o o o o o \n",
      "o o o o o o o o o o o o o o o o o \n",
      "o o o o o o o o o o o o o o o o o o \n",
      "o o o o o o o o o o o o o o o o o o o \n"
     ]
    }
   ],
   "source": [
    "n = 20\n",
    "for i in range(n):\n",
    "    for j in range(i):\n",
    "        print ('o', end=' ')\n",
    "    print()\n",
    "i+=1"
   ]
  },
  {
   "cell_type": "code",
   "execution_count": 26,
   "metadata": {},
   "outputs": [
    {
     "name": "stdout",
     "output_type": "stream",
     "text": [
      "Stopping the loop\n",
      "3\n"
     ]
    }
   ],
   "source": [
    "for number in range (1, 6): #for loop\n",
    " if number == 3:\n",
    "    print(\"Stopping the loop\")\n",
    "    break\n",
    "print(number)"
   ]
  },
  {
   "cell_type": "code",
   "execution_count": null,
   "metadata": {},
   "outputs": [
    {
     "name": "stdout",
     "output_type": "stream",
     "text": [
      "o \n",
      "o o \n",
      "o o o \n",
      "o o o o \n",
      "o o o o o \n",
      "o o o o o o \n",
      "o o o o o o o \n",
      "o o o o o o o o \n",
      "o o o o o o o o o \n",
      "o o o o o o o o o o \n",
      "o o o o o o o o o o o \n",
      "o o o o o o o o o o o o \n",
      "o o o o o o o o o o o o o \n",
      "o o o o o o o o o o o o o o \n",
      "o o o o o o o o o o o o o o o \n",
      "o o o o o o o o o o o o o o o o \n",
      "o o o o o o o o o o o o o o o o o \n",
      "o o o o o o o o o o o o o o o o o o \n",
      "o o o o o o o o o o o o o o o o o o o \n",
      "o o o o o o o o o o o o o o o o o o o o \n"
     ]
    }
   ],
   "source": [
    "def tree(n):    #defining a function\n",
    "        for i in range(n):\n",
    "            for j in range(i+1):\n",
    "                print ('o', end=' ')\n",
    "            print('')\n",
    "\n",
    "n = int(input(\"Enter a number\"))\n",
    "tree(n)"
   ]
  }
 ],
 "metadata": {
  "kernelspec": {
   "display_name": "Python 3",
   "language": "python",
   "name": "python3"
  },
  "language_info": {
   "codemirror_mode": {
    "name": "ipython",
    "version": 3
   },
   "file_extension": ".py",
   "mimetype": "text/x-python",
   "name": "python",
   "nbconvert_exporter": "python",
   "pygments_lexer": "ipython3",
   "version": "3.10.12"
  }
 },
 "nbformat": 4,
 "nbformat_minor": 2
}
